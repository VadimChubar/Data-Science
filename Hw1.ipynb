{
 "cells": [
  {
   "cell_type": "code",
   "execution_count": 1,
   "id": "f397d2de",
   "metadata": {},
   "outputs": [
    {
     "name": "stdout",
     "output_type": "stream",
     "text": [
      "[[10130.43478261]\n",
      " [24978.26086957]\n",
      " [14891.30434783]]\n"
     ]
    }
   ],
   "source": [
    "# 1 \n",
    "# Вкладник поклав 50000 умовних одиниць на три різні рахунки в три різні банки. \n",
    "# За першим рахунком виплати становитимуть 5% річних, по другому – 7% річних та по третьому 6% річних. \n",
    "# Відомо, що через рік вкладник отримав за відсотками суму в 2250 у.о. з першого та другого банку та суму в 1400 у.о. \n",
    "# з першого та третього банку. Скільки умовних одиниць він поклав на кожен рахунок спочатку?\n",
    "\n",
    "import numpy as np\n",
    "a = np.matrix(\"1,1,1;0.05,0.07,0;0.05,0,0.06\")\n",
    "b = np.matrix(\"50000;2255;1400\")\n",
    "a_inv = np.linalg.inv(a)\n",
    "x = a_inv.dot(b)\n",
    "print(x)\n",
    "\n",
    "# a = np.array([[1,1,1], [0.05,0.07,0], [0.05,0, 0.06]])\n",
    "# b = np.array([50000,2255,1450])\n",
    "# x = np.linalg.solve(a,b)\n",
    "# print(x)"
   ]
  },
  {
   "cell_type": "code",
   "execution_count": 6,
   "id": "3a0bcc08",
   "metadata": {},
   "outputs": [
    {
     "name": "stdout",
     "output_type": "stream",
     "text": [
      "[[436.]\n",
      " [556.]\n",
      " [336.]]\n"
     ]
    }
   ],
   "source": [
    "# 2\n",
    "# На складі зберігаються мобільні телефони iPhone 6, iPhone 11, iPhone 12 моделей. \n",
    "# Всього 1328 екземплярів. Моделей iPhone 6 на 120 менше, ніж моделей iPhone 11, та на 100 більше, \n",
    "# ніж моделей iPhone 12. Скільки моделей кожного виду на складі?\n",
    "\n",
    "a = np.matrix(\"1,1,1;1,-1,0;1,0,-1\")\n",
    "b = np.matrix(\"1328;-120;100\")\n",
    "a_inv = np.linalg.inv(a)\n",
    "x = a_inv.dot(b)\n",
    "print(x)"
   ]
  },
  {
   "cell_type": "code",
   "execution_count": 13,
   "id": "b932e09a",
   "metadata": {},
   "outputs": [
    {
     "name": "stdout",
     "output_type": "stream",
     "text": [
      "[[0.08249158]\n",
      " [2.02020202]\n",
      " [0.25084175]]\n"
     ]
    }
   ],
   "source": [
    "# 3\n",
    "# Складіть канонічне рівняння еліпсоїда, що проходить через три точки А B C\n",
    "\n",
    "# система  рівнянь\n",
    "# 3/a^2 + 3/c^2 = 1\n",
    "# 6/a^2 + 1/4b^2 = 1\n",
    "# 1/a^2 + 1/3b^2 + 1c^2\n",
    "\n",
    "# приведення лінійних рівнянь лінійної форми\n",
    "# u = 1/a^2 \n",
    "# v = 1/b^2\n",
    "# w = 1/c^2\n",
    "\n",
    "# система лінійних рівнянь для матриці для рішення в матричній формі\n",
    "# 3u + 0v   + 3w = 1\n",
    "# 6u +  v/4 + 0w = 1\n",
    "#  u +  v/3 +  w = 1\n",
    "\n",
    "# формула результату\n",
    "# a^2 = u\n",
    "# b^2 = v\n",
    "# c^2 = w\n",
    "\n",
    "import numpy as np\n",
    "a = np.matrix(\"3,0,3;6,0.25,0;1,0.33,1\")\n",
    "b = np.matrix(\"1;1;1\")\n",
    "a_inv = np.linalg.inv(a)\n",
    "x = a_inv.dot(b)\n",
    "print(x)"
   ]
  },
  {
   "cell_type": "code",
   "execution_count": 13,
   "id": "5a7f11af",
   "metadata": {},
   "outputs": [
    {
     "name": "stdout",
     "output_type": "stream",
     "text": [
      "[[4.]\n",
      " [5.]\n",
      " [3.]]\n"
     ]
    }
   ],
   "source": [
    "# 4\n",
    "# Складіть рівняння параболи що проходить через задані три точки (1,12), (3,54), (-1,2)\n",
    "# система лінійних рівнянь\n",
    "# a*1^2 + b*1 + c = 12\n",
    "# a*3^2 + b*3 + c = 54\n",
    "# a*(-1)^2 + b*(-1) + c = 2 \n",
    "\n",
    "import numpy as np\n",
    "a = np.matrix(\"1,1,1;9,3,1;1,-1,1\")\n",
    "b = np.matrix(\"12;54;2\")\n",
    "a_inv = np.linalg.inv(a)\n",
    "x = a_inv.dot(b)\n",
    "print(x)\n"
   ]
  },
  {
   "cell_type": "code",
   "execution_count": 15,
   "id": "f1325172",
   "metadata": {},
   "outputs": [
    {
     "data": {
      "text/plain": [
       "array([3., 5., 4.])"
      ]
     },
     "execution_count": 15,
     "metadata": {},
     "output_type": "execute_result"
    }
   ],
   "source": [
    "# 5\n",
    "# Складіть функцію get_polynom, яка за набором точок виду\n",
    "\n",
    "import numpy as np\n",
    "\n",
    "def get_polynom(coords):\n",
    "    a = []\n",
    "    b = []\n",
    "    for x, y in coords:\n",
    "        b.append(y)\n",
    "        c = []\n",
    "        for i in range(len(coords)):\n",
    "            c.append(x ** i)\n",
    "        a.append(c)\n",
    "    return np.linalg.solve(a, b)\n",
    "\n",
    "get_polynom([(1,12), (3,54), (-1,2)])"
   ]
  },
  {
   "cell_type": "code",
   "execution_count": null,
   "id": "79ad74bd",
   "metadata": {},
   "outputs": [],
   "source": []
  }
 ],
 "metadata": {
  "kernelspec": {
   "display_name": "Python 3 (ipykernel)",
   "language": "python",
   "name": "python3"
  },
  "language_info": {
   "codemirror_mode": {
    "name": "ipython",
    "version": 3
   },
   "file_extension": ".py",
   "mimetype": "text/x-python",
   "name": "python",
   "nbconvert_exporter": "python",
   "pygments_lexer": "ipython3",
   "version": "3.9.13"
  }
 },
 "nbformat": 4,
 "nbformat_minor": 5
}
